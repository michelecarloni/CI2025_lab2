{
 "cells": [
  {
   "cell_type": "code",
   "execution_count": 14,
   "id": "3a0dcacf",
   "metadata": {},
   "outputs": [],
   "source": [
    "from itertools import combinations\n",
    "import numpy as np\n",
    "from random import randint"
   ]
  },
  {
   "cell_type": "markdown",
   "id": "8fcbbd64",
   "metadata": {},
   "source": [
    "GOAL\n",
    "Cost minimization\n",
    "\n",
    "CONSIDERATION\n",
    "- We go from city in the ROW (i) to city in COLUMN (j)\n",
    "\n",
    "ALGORITHM 1:\n",
    "\n",
    "Let's consider n as the number of the number of cities\n",
    "\n",
    "pick random i\n",
    "for _ in range (n-1):\n",
    "    for j:\n",
    "        take the index j with the lowest cost\n",
    "        add i in the stack of already visited nodes\n",
    "        i = j"
   ]
  },
  {
   "cell_type": "markdown",
   "id": "034efe17",
   "metadata": {},
   "source": [
    "## Simple Test Problem"
   ]
  },
  {
   "cell_type": "code",
   "execution_count": 3,
   "id": "193604ac",
   "metadata": {},
   "outputs": [],
   "source": [
    "CITIES = [\n",
    "    \"Rome\",\n",
    "    \"Milan\",\n",
    "    \"Naples\",\n",
    "    \"Turin\",\n",
    "    \"Palermo\",\n",
    "    \"Genoa\",\n",
    "    \"Bologna\",\n",
    "    \"Florence\",\n",
    "    \"Bari\",\n",
    "    \"Catania\",\n",
    "    \"Venice\",\n",
    "    \"Verona\",\n",
    "    \"Messina\",\n",
    "    \"Padua\",\n",
    "    \"Trieste\",\n",
    "    \"Taranto\",\n",
    "    \"Brescia\",\n",
    "    \"Prato\",\n",
    "    \"Parma\",\n",
    "    \"Modena\",\n",
    "]\n",
    "test_problem = np.load('problems/test_problem.npy')"
   ]
  },
  {
   "cell_type": "markdown",
   "id": "bafd1bc9",
   "metadata": {},
   "source": [
    "## Common tests"
   ]
  },
  {
   "cell_type": "code",
   "execution_count": 4,
   "id": "8e905659",
   "metadata": {},
   "outputs": [],
   "source": [
    "problem = np.load('problems/problem_r2_100.npy')"
   ]
  },
  {
   "cell_type": "code",
   "execution_count": 11,
   "id": "60b26327",
   "metadata": {},
   "outputs": [
    {
     "name": "stdout",
     "output_type": "stream",
     "text": [
      "(20, 20)\n",
      "(100, 100)\n"
     ]
    }
   ],
   "source": [
    "print(test_problem.shape)\n",
    "print(problem.shape)"
   ]
  },
  {
   "cell_type": "code",
   "execution_count": 12,
   "id": "071e8c52",
   "metadata": {},
   "outputs": [
    {
     "name": "stdout",
     "output_type": "stream",
     "text": [
      "[[ -9.15367559  47.74344577  40.16586609 ... -40.84436694  49.89304781\n",
      "   -3.80798436]\n",
      " [-49.59100483 -49.17049366 -13.77660833 ...   9.24571587 -10.78074211\n",
      "  -31.92741522]\n",
      " [ 44.58858581  13.16415431  24.0761291  ...  46.47632671 -22.10624941\n",
      "  -20.34470381]\n",
      " ...\n",
      " [  1.09354585   9.06381007  16.15032321 ...  32.66745074  41.05556601\n",
      "   35.1475426 ]\n",
      " [ 47.09316012  17.95291657   8.44268749 ...  33.69341475  -3.4474984\n",
      "  -17.256382  ]\n",
      " [ -5.79703165  -5.79169305 -12.96217049 ...  11.97955136  42.27871638\n",
      "    7.40063403]]\n"
     ]
    }
   ],
   "source": [
    "print(problem)"
   ]
  },
  {
   "cell_type": "code",
   "execution_count": 13,
   "id": "81f4457c",
   "metadata": {},
   "outputs": [
    {
     "name": "stdout",
     "output_type": "stream",
     "text": [
      "34.41537136306256\n",
      "47.60002854776626\n"
     ]
    }
   ],
   "source": [
    "print(problem[4][5])\n",
    "print(problem[5][4])"
   ]
  },
  {
   "cell_type": "code",
   "execution_count": 5,
   "id": "83d367fd",
   "metadata": {},
   "outputs": [
    {
     "data": {
      "text/plain": [
       "np.True_"
      ]
     },
     "execution_count": 5,
     "metadata": {},
     "output_type": "execute_result"
    }
   ],
   "source": [
    "# Negative values?\n",
    "np.any(problem < 0)"
   ]
  },
  {
   "cell_type": "code",
   "execution_count": 6,
   "id": "03175c34",
   "metadata": {},
   "outputs": [
    {
     "data": {
      "text/plain": [
       "False"
      ]
     },
     "execution_count": 6,
     "metadata": {},
     "output_type": "execute_result"
    }
   ],
   "source": [
    "# Diagonal is all zero?\n",
    "np.allclose(np.diag(problem), 0.0)"
   ]
  },
  {
   "cell_type": "code",
   "execution_count": 7,
   "id": "a81d846f",
   "metadata": {},
   "outputs": [
    {
     "data": {
      "text/plain": [
       "False"
      ]
     },
     "execution_count": 7,
     "metadata": {},
     "output_type": "execute_result"
    }
   ],
   "source": [
    "# Symmetric matrix?\n",
    "np.allclose(problem, problem.T)"
   ]
  },
  {
   "cell_type": "code",
   "execution_count": 8,
   "id": "159567d4",
   "metadata": {},
   "outputs": [
    {
     "data": {
      "text/plain": [
       "False"
      ]
     },
     "execution_count": 8,
     "metadata": {},
     "output_type": "execute_result"
    }
   ],
   "source": [
    "# Triangular inequality\n",
    "all(\n",
    "    problem[x, y] <= problem[x, z] + problem[z, y]\n",
    "    for x, y, z in list(combinations(range(problem.shape[0]), 3))\n",
    ")"
   ]
  },
  {
   "cell_type": "markdown",
   "id": "d6237568",
   "metadata": {},
   "source": [
    "### ALGORITHM 1"
   ]
  },
  {
   "cell_type": "code",
   "execution_count": 24,
   "id": "e64a6b5d",
   "metadata": {},
   "outputs": [],
   "source": [
    "def algo_1(mat):\n",
    "\n",
    "    sol = []\n",
    "\n",
    "    total_cost = 0\n",
    "\n",
    "    tot_cities = mat.shape[0]\n",
    "    # pick random index\n",
    "    i = randint(0, tot_cities-1)\n",
    "    starting_point = i\n",
    "\n",
    "    for _ in range(tot_cities):\n",
    "        min_idx = 0\n",
    "        for j in range(tot_cities):\n",
    "            \n",
    "            if i == j or j in sol:\n",
    "                continue\n",
    "\n",
    "            if mat[i][j] < mat[i][min_idx]:\n",
    "                min_idx = j\n",
    "\n",
    "        total_cost += mat[i][min_idx]\n",
    "        sol.append(i)\n",
    "        i = min_idx\n",
    "\n",
    "    sol.append(starting_point)\n",
    "\n",
    "    return sol, total_cost"
   ]
  },
  {
   "cell_type": "code",
   "execution_count": 25,
   "id": "b8698471",
   "metadata": {},
   "outputs": [
    {
     "name": "stdout",
     "output_type": "stream",
     "text": [
      "sol: [25, 33, 99, 7, 92, 22, 9, 75, 71, 85, 36, 17, 19, 76, 73, 47, 61, 29, 1, 0, 63, 56, 51, 66, 31, 20, 5, 38, 54, 83, 34, 97, 44, 81, 60, 46, 69, 24, 79, 13, 6, 23, 52, 49, 42, 86, 77, 90, 62, 94, 40, 3, 26, 28, 14, 89, 80, 39, 64, 72, 98, 70, 91, 74, 84, 4, 10, 8, 32, 15, 53, 41, 0, 45, 68, 65, 78, 93, 35, 58, 43, 27, 37, 11, 59, 88, 50, 87, 12, 16, 0, 48, 82, 95, 21, 67, 55, 96, 0, 30, 25]\n",
      "total_cost: -4618.464054514575\n"
     ]
    }
   ],
   "source": [
    "sol, total_cost = algo_1(problem)\n",
    "\n",
    "print(f\"sol: {sol}\")\n",
    "print(f\"total_cost: {total_cost}\")"
   ]
  },
  {
   "cell_type": "code",
   "execution_count": null,
   "id": "2904b868",
   "metadata": {},
   "outputs": [],
   "source": []
  }
 ],
 "metadata": {
  "kernelspec": {
   "display_name": "ml",
   "language": "python",
   "name": "python3"
  },
  "language_info": {
   "codemirror_mode": {
    "name": "ipython",
    "version": 3
   },
   "file_extension": ".py",
   "mimetype": "text/x-python",
   "name": "python",
   "nbconvert_exporter": "python",
   "pygments_lexer": "ipython3",
   "version": "3.11.11"
  }
 },
 "nbformat": 4,
 "nbformat_minor": 5
}
