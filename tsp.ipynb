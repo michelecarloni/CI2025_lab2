{
 "cells": [
  {
   "cell_type": "code",
   "execution_count": 69,
   "id": "3a0dcacf",
   "metadata": {},
   "outputs": [],
   "source": [
    "from itertools import combinations\n",
    "import numpy as np\n",
    "from random import randint"
   ]
  },
  {
   "cell_type": "markdown",
   "id": "8fcbbd64",
   "metadata": {},
   "source": [
    "GOAL\n",
    "Cost minimization\n",
    "\n",
    "CONSIDERATION\n",
    "- We go from city in the ROW (i) to city in COLUMN (j)\n",
    "\n",
    "ALGORITHM 1:\n",
    "\n",
    "Let's consider n as the number of the number of cities\n",
    "\n",
    "pick random i\n",
    "for _ in range (n-1):\n",
    "    for j:\n",
    "        take the index j with the lowest cost\n",
    "        add i in the stack of already visited nodes\n",
    "        i = j"
   ]
  },
  {
   "cell_type": "markdown",
   "id": "034efe17",
   "metadata": {},
   "source": [
    "## Simple Test Problem"
   ]
  },
  {
   "cell_type": "code",
   "execution_count": 70,
   "id": "193604ac",
   "metadata": {},
   "outputs": [],
   "source": [
    "CITIES = [\n",
    "    \"Rome\",\n",
    "    \"Milan\",\n",
    "    \"Naples\",\n",
    "    \"Turin\",\n",
    "    \"Palermo\",\n",
    "    \"Genoa\",\n",
    "    \"Bologna\",\n",
    "    \"Florence\",\n",
    "    \"Bari\",\n",
    "    \"Catania\",\n",
    "    \"Venice\",\n",
    "    \"Verona\",\n",
    "    \"Messina\",\n",
    "    \"Padua\",\n",
    "    \"Trieste\",\n",
    "    \"Taranto\",\n",
    "    \"Brescia\",\n",
    "    \"Prato\",\n",
    "    \"Parma\",\n",
    "    \"Modena\",\n",
    "]\n",
    "test_problem = np.load('problems/test_problem.npy')"
   ]
  },
  {
   "cell_type": "markdown",
   "id": "bafd1bc9",
   "metadata": {},
   "source": [
    "## Common tests"
   ]
  },
  {
   "cell_type": "code",
   "execution_count": 71,
   "id": "8e905659",
   "metadata": {},
   "outputs": [],
   "source": [
    "p_g = np.load('problems/problem_g_100.npy')\n",
    "p_r1 = np.load('problems/problem_r1_100.npy')\n",
    "p_r2 = np.load('problems/problem_r2_100.npy')"
   ]
  },
  {
   "cell_type": "code",
   "execution_count": 72,
   "id": "a1cad01d",
   "metadata": {},
   "outputs": [
    {
     "name": "stdout",
     "output_type": "stream",
     "text": [
      "[[  0.         179.92038688 176.126132   ... 162.61509016 407.15461186\n",
      "  141.77638964]\n",
      " [179.92038688   0.         278.35892376 ... 116.33000682 281.45211088\n",
      "  154.17643486]\n",
      " [176.126132   278.35892376   0.         ... 178.74068495 375.52755063\n",
      "  312.44633915]\n",
      " ...\n",
      " [162.61509016 116.33000682 178.74068495 ...   0.         245.06340681\n",
      "  224.97614312]\n",
      " [407.15461186 281.45211088 375.52755063 ... 245.06340681   0.\n",
      "  434.61707535]\n",
      " [141.77638964 154.17643486 312.44633915 ... 224.97614312 434.61707535\n",
      "    0.        ]]\n"
     ]
    }
   ],
   "source": [
    "print(p_g)"
   ]
  },
  {
   "cell_type": "code",
   "execution_count": 73,
   "id": "2f0fe6a3",
   "metadata": {},
   "outputs": [
    {
     "name": "stdout",
     "output_type": "stream",
     "text": [
      "[[  0.           4.9766      65.54479501 ...   7.83902018  27.41995194\n",
      "   87.69299895]\n",
      " [  9.36499057   0.         110.87932346 ...  19.63789468  30.94641048\n",
      "   50.11884753]\n",
      " [ 35.88566785  54.64069406   0.         ...  66.45444707  87.16585662\n",
      "   13.71356104]\n",
      " ...\n",
      " [ 15.7861903   13.58665954  37.36828725 ...   0.          33.44981139\n",
      "   28.40778893]\n",
      " [ 43.48793718  32.44459687  80.22882128 ...  18.97247219   0.\n",
      "   68.05734486]\n",
      " [ 38.95399487  52.21881804  12.94487068 ...  67.75221274  60.95591025\n",
      "    0.        ]]\n"
     ]
    }
   ],
   "source": [
    "print(p_r1)"
   ]
  },
  {
   "cell_type": "code",
   "execution_count": 74,
   "id": "3ac4964e",
   "metadata": {},
   "outputs": [
    {
     "name": "stdout",
     "output_type": "stream",
     "text": [
      "[[ -9.15367559  47.74344577  40.16586609 ... -40.84436694  49.89304781\n",
      "   -3.80798436]\n",
      " [-49.59100483 -49.17049366 -13.77660833 ...   9.24571587 -10.78074211\n",
      "  -31.92741522]\n",
      " [ 44.58858581  13.16415431  24.0761291  ...  46.47632671 -22.10624941\n",
      "  -20.34470381]\n",
      " ...\n",
      " [  1.09354585   9.06381007  16.15032321 ...  32.66745074  41.05556601\n",
      "   35.1475426 ]\n",
      " [ 47.09316012  17.95291657   8.44268749 ...  33.69341475  -3.4474984\n",
      "  -17.256382  ]\n",
      " [ -5.79703165  -5.79169305 -12.96217049 ...  11.97955136  42.27871638\n",
      "    7.40063403]]\n"
     ]
    }
   ],
   "source": [
    "print(p_r2)"
   ]
  },
  {
   "cell_type": "code",
   "execution_count": 75,
   "id": "83d367fd",
   "metadata": {},
   "outputs": [
    {
     "data": {
      "text/plain": [
       "np.False_"
      ]
     },
     "execution_count": 75,
     "metadata": {},
     "output_type": "execute_result"
    }
   ],
   "source": [
    "# Negative values?\n",
    "np.any(p_g < 0)"
   ]
  },
  {
   "cell_type": "code",
   "execution_count": 76,
   "id": "03175c34",
   "metadata": {},
   "outputs": [
    {
     "data": {
      "text/plain": [
       "True"
      ]
     },
     "execution_count": 76,
     "metadata": {},
     "output_type": "execute_result"
    }
   ],
   "source": [
    "# Diagonal is all zero?\n",
    "np.allclose(np.diag(p_g), 0.0)"
   ]
  },
  {
   "cell_type": "code",
   "execution_count": 77,
   "id": "a81d846f",
   "metadata": {},
   "outputs": [
    {
     "data": {
      "text/plain": [
       "True"
      ]
     },
     "execution_count": 77,
     "metadata": {},
     "output_type": "execute_result"
    }
   ],
   "source": [
    "# Symmetric matrix?\n",
    "np.allclose(p_g, p_g.T)"
   ]
  },
  {
   "cell_type": "code",
   "execution_count": 78,
   "id": "159567d4",
   "metadata": {},
   "outputs": [
    {
     "data": {
      "text/plain": [
       "True"
      ]
     },
     "execution_count": 78,
     "metadata": {},
     "output_type": "execute_result"
    }
   ],
   "source": [
    "# Triangular inequality\n",
    "all(\n",
    "    p_g[x, y] <= p_g[x, z] + p_g[z, y]\n",
    "    for x, y, z in list(combinations(range(p_g.shape[0]), 3))\n",
    ")"
   ]
  },
  {
   "cell_type": "markdown",
   "id": "d6237568",
   "metadata": {},
   "source": [
    "### ALGORITHM 1"
   ]
  },
  {
   "cell_type": "code",
   "execution_count": 79,
   "id": "e64a6b5d",
   "metadata": {},
   "outputs": [],
   "source": [
    "def algo_1(mat):\n",
    "\n",
    "    sol = []\n",
    "\n",
    "    total_cost = 0\n",
    "\n",
    "    tot_cities = mat.shape[0]\n",
    "    # pick random index\n",
    "    i = randint(0, tot_cities-1)\n",
    "    starting_point = i\n",
    "\n",
    "    for _ in range(tot_cities):\n",
    "        min_idx = 0\n",
    "        for j in range(tot_cities):\n",
    "            \n",
    "            if i == j or j in sol:\n",
    "                continue\n",
    "\n",
    "            if mat[i][j] < mat[i][min_idx]:\n",
    "                min_idx = j\n",
    "\n",
    "        total_cost += mat[i][min_idx]\n",
    "        sol.append(i)\n",
    "        i = min_idx\n",
    "\n",
    "    sol.append(starting_point)\n",
    "\n",
    "    return sol, total_cost"
   ]
  },
  {
   "cell_type": "code",
   "execution_count": 80,
   "id": "b8698471",
   "metadata": {},
   "outputs": [
    {
     "name": "stdout",
     "output_type": "stream",
     "text": [
      "sol: [53, 89, 80, 42, 86, 61, 29, 1, 0, 63, 56, 22, 9, 75, 92, 50, 87, 26, 77, 76, 36, 17, 19, 67, 55, 47, 66, 71, 85, 23, 7, 41, 51, 79, 13, 6, 33, 99, 40, 49, 83, 34, 38, 54, 4, 46, 69, 24, 31, 20, 5, 57, 94, 60, 65, 73, 64, 72, 98, 70, 91, 74, 84, 43, 3, 52, 81, 27, 32, 25, 21, 14, 10, 90, 62, 28, 45, 68, 30, 97, 44, 88, 95, 58, 78, 93, 35, 8, 59, 16, 0, 37, 11, 48, 82, 18, 2, 15, 96, 12, 53]\n",
      "total_cost: -4673.069736192857\n"
     ]
    }
   ],
   "source": [
    "sol, total_cost = algo_1(p_r2)\n",
    "\n",
    "print(f\"sol: {sol}\")\n",
    "print(f\"total_cost: {total_cost}\")"
   ]
  },
  {
   "cell_type": "code",
   "execution_count": null,
   "id": "329e4674",
   "metadata": {},
   "outputs": [],
   "source": []
  },
  {
   "cell_type": "code",
   "execution_count": null,
   "id": "2904b868",
   "metadata": {},
   "outputs": [],
   "source": []
  }
 ],
 "metadata": {
  "kernelspec": {
   "display_name": "ml",
   "language": "python",
   "name": "python3"
  },
  "language_info": {
   "codemirror_mode": {
    "name": "ipython",
    "version": 3
   },
   "file_extension": ".py",
   "mimetype": "text/x-python",
   "name": "python",
   "nbconvert_exporter": "python",
   "pygments_lexer": "ipython3",
   "version": "3.11.11"
  }
 },
 "nbformat": 4,
 "nbformat_minor": 5
}
